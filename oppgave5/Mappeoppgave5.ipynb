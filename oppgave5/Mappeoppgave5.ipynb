{
 "cells": [
  {
   "cell_type": "markdown",
   "metadata": {},
   "source": [
    "### Mappeoppgave 5 - webskraping & linreg"
   ]
  },
  {
   "cell_type": "markdown",
   "metadata": {},
   "source": [
    "Jeg kjører en regresjon på en tabell som viser oljefondets aksjeeierskap fordelt på hver innbygger [(tilfeldig data funnet på e24.no)]('https://e24.no/boers-og-finans/i/39BQ5e/soek-i-oljefondets-over-9000-aksjer-saa-mye-eier-du-i-apple-og-tesla')."
   ]
  },
  {
   "cell_type": "markdown",
   "metadata": {},
   "source": [
    "Koden er hentet fra Espen Sirnes sine forelesningsnotater (9 - webskraping med python)."
   ]
  },
  {
   "cell_type": "code",
   "execution_count": 1,
   "metadata": {},
   "outputs": [
    {
     "name": "stdout",
     "output_type": "stream",
     "text": [
      "<table class=\"table css-g9zmyn\"><tbody><tr class=\"css-0\"><style data-emotion=\"css l4upzl\">.css-l4upzl{padding:10px var(--gap-unit);background-color:var(--component-background-color-01);color:var(--component-text-color-01);border-top:none;border-bottom:1px #f1f1f1 solid;border-left:none;border-right:none;}</style><td class=\"css-l4upzl\">Selskap</td><td class=\"css-l4upzl\">Du eier (kr.)</td><td class=\"css-l4upzl\">Oljefondets aksjer (mrd.kr.)</td></tr><tr class=\"css-0\"><td class=\"css-l4upzl\">Microsoft Corp</td><td class=\"css-l4upzl\">28.085</td><td class=\"css-l4upzl\">150,75</td></tr><tr class=\"css-0\"><td class=\"css-l4upzl\">Apple Inc  </td><td class=\"css-l4upzl\">27.726</td><td class=\"css-l4upzl\">148,82</td></tr><tr class=\"css-0\"><td class=\"css-l4upzl\">Amazon.com Inc 121 097</td><td class=\"css-l4upzl\">22.561</td><td class=\"css-l4upzl\">121,10</td></tr><tr class=\"css-0\"><td class=\"css-l4upzl\">Alphabet Inc 90 310</td><td class=\"css-l4upzl\">16.825</td><td class=\"css-l4upzl\">90,31</td></tr><tr clas\n"
     ]
    }
   ],
   "source": [
    "from bs4 import BeautifulSoup\n",
    "import requests\n",
    "\n",
    "def fetch_html_tables(url):\n",
    "    \"Returns a list of tables in the html of url\"\n",
    "    page = requests.get(url)\n",
    "    bs=BeautifulSoup(page.content)\n",
    "    tables=bs.find_all('table')\n",
    "    return tables\n",
    "\n",
    "tables=fetch_html_tables('https://e24.no/boers-og-finans/i/39BQ5e/soek-i-oljefondets-over-9000-aksjer-saa-mye-eier-du-i-apple-og-tesla')\n",
    "table_html=tables[0]\n",
    "\n",
    "#printing top\n",
    "print(str(table_html)[:1000])"
   ]
  },
  {
   "cell_type": "code",
   "execution_count": 2,
   "metadata": {},
   "outputs": [
    {
     "name": "stdout",
     "output_type": "stream",
     "text": [
      "[['Selskap', 'Du eier (kr.)', 'Oljefondets aksjer (mrd.kr.)'], ['Microsoft Corp', '28.085', '150,75'], ['Apple Inc  ', '27.726', '148,82'], ['Amazon.com Inc 121 097', '22.561', '121,10'], ['Alphabet Inc 90 310', '16.825', '90,31'], ['Nestlé SA  ', '15.368', '82,49'], ['Roche Holding AG', '12.447', '66,81 '], ['Alibaba Group Holding Ltd  ', '11.171', '59,96'], ['Facebook Inc ', '10.916', '58,59'], ['Tencent Holdings Ltd ', '9.898', '53,13 '], ['Novartis AG', '8.654', '46,45']]\n"
     ]
    }
   ],
   "source": [
    "def html_to_table(html):\n",
    "    \"Returns the table defined in html as a list\"\n",
    "    #defining the table:\n",
    "    table=[]\n",
    "    #iterating over all rows\n",
    "    for row in html.find_all('tr'):\n",
    "        r=[]\n",
    "        #finding all cells in each row:\n",
    "        cells=row.find_all('td')\n",
    "        \n",
    "        #if no cells are found, look for headings\n",
    "        if len(cells)==0:\n",
    "            cells=row.find_all('th')\n",
    "            \n",
    "        #iterate over cells:\n",
    "        for cell in cells:\n",
    "            cell=format(cell)\n",
    "            r.append(cell)\n",
    "        \n",
    "        #append the row to t:\n",
    "        table.append(r)\n",
    "    return table\n",
    "\n",
    "def format(cell):\n",
    "    \"Returns a string after converting bs4 object cell to clean text\"\n",
    "    if cell.content is None:\n",
    "        s=cell.text\n",
    "    elif len(cell.content)==0:\n",
    "        return ''\n",
    "    else:\n",
    "        s=' '.join([str(c) for c in cell.content])\n",
    "        \n",
    "    #here you can add additional characters/strings you want to \n",
    "    #remove, change punctuations or format the string in other\n",
    "    #ways:\n",
    "    s=s.replace('\\xa0','')\n",
    "    s=s.replace('\\n','')\n",
    "    return s\n",
    "\n",
    "table=html_to_table(table_html)\n",
    "\n",
    "#printing top\n",
    "print(str(table)[:1000])"
   ]
  },
  {
   "cell_type": "code",
   "execution_count": 3,
   "metadata": {},
   "outputs": [
    {
     "data": {
      "text/plain": [
       "'Selskap;Du eier (kr.);Oljefondets aksjer (mrd.kr.)'"
      ]
     },
     "execution_count": 3,
     "metadata": {},
     "output_type": "execute_result"
    }
   ],
   "source": [
    "';'.join(table[0])"
   ]
  },
  {
   "cell_type": "code",
   "execution_count": 4,
   "metadata": {},
   "outputs": [],
   "source": [
    "def save_data(file_name,table):\n",
    "    \"Saves table to file_name\"\n",
    "    f=open(file_name,'w')\n",
    "    for row in table:\n",
    "        f.write(';'.join(row)+'\\n')\n",
    "    f.close()\n",
    "    \n",
    "save_data('df.csv',table)"
   ]
  },
  {
   "cell_type": "code",
   "execution_count": 5,
   "metadata": {},
   "outputs": [
    {
     "data": {
      "text/html": [
       "<div>\n",
       "<style scoped>\n",
       "    .dataframe tbody tr th:only-of-type {\n",
       "        vertical-align: middle;\n",
       "    }\n",
       "\n",
       "    .dataframe tbody tr th {\n",
       "        vertical-align: top;\n",
       "    }\n",
       "\n",
       "    .dataframe thead th {\n",
       "        text-align: right;\n",
       "    }\n",
       "</style>\n",
       "<table border=\"1\" class=\"dataframe\">\n",
       "  <thead>\n",
       "    <tr style=\"text-align: right;\">\n",
       "      <th></th>\n",
       "      <th>Selskap</th>\n",
       "      <th>Du eier (kr.)</th>\n",
       "      <th>Oljefondets aksjer (mrd.kr.)</th>\n",
       "    </tr>\n",
       "  </thead>\n",
       "  <tbody>\n",
       "    <tr>\n",
       "      <th>0</th>\n",
       "      <td>Microsoft Corp</td>\n",
       "      <td>28.085</td>\n",
       "      <td>150,75</td>\n",
       "    </tr>\n",
       "    <tr>\n",
       "      <th>1</th>\n",
       "      <td>Apple Inc</td>\n",
       "      <td>27.726</td>\n",
       "      <td>148,82</td>\n",
       "    </tr>\n",
       "    <tr>\n",
       "      <th>2</th>\n",
       "      <td>Amazon.com Inc 121 097</td>\n",
       "      <td>22.561</td>\n",
       "      <td>121,10</td>\n",
       "    </tr>\n",
       "    <tr>\n",
       "      <th>3</th>\n",
       "      <td>Alphabet Inc 90 310</td>\n",
       "      <td>16.825</td>\n",
       "      <td>90,31</td>\n",
       "    </tr>\n",
       "    <tr>\n",
       "      <th>4</th>\n",
       "      <td>Nestlé SA</td>\n",
       "      <td>15.368</td>\n",
       "      <td>82,49</td>\n",
       "    </tr>\n",
       "    <tr>\n",
       "      <th>5</th>\n",
       "      <td>Roche Holding AG</td>\n",
       "      <td>12.447</td>\n",
       "      <td>66,81</td>\n",
       "    </tr>\n",
       "    <tr>\n",
       "      <th>6</th>\n",
       "      <td>Alibaba Group Holding Ltd</td>\n",
       "      <td>11.171</td>\n",
       "      <td>59,96</td>\n",
       "    </tr>\n",
       "    <tr>\n",
       "      <th>7</th>\n",
       "      <td>Facebook Inc</td>\n",
       "      <td>10.916</td>\n",
       "      <td>58,59</td>\n",
       "    </tr>\n",
       "    <tr>\n",
       "      <th>8</th>\n",
       "      <td>Tencent Holdings Ltd</td>\n",
       "      <td>9.898</td>\n",
       "      <td>53,13</td>\n",
       "    </tr>\n",
       "    <tr>\n",
       "      <th>9</th>\n",
       "      <td>Novartis AG</td>\n",
       "      <td>8.654</td>\n",
       "      <td>46,45</td>\n",
       "    </tr>\n",
       "  </tbody>\n",
       "</table>\n",
       "</div>"
      ],
      "text/plain": [
       "                       Selskap  Du eier (kr.) Oljefondets aksjer (mrd.kr.)\n",
       "0               Microsoft Corp         28.085                       150,75\n",
       "1                  Apple Inc           27.726                       148,82\n",
       "2       Amazon.com Inc 121 097         22.561                       121,10\n",
       "3          Alphabet Inc 90 310         16.825                        90,31\n",
       "4                  Nestlé SA           15.368                        82,49\n",
       "5             Roche Holding AG         12.447                       66,81 \n",
       "6  Alibaba Group Holding Ltd           11.171                        59,96\n",
       "7                Facebook Inc          10.916                        58,59\n",
       "8        Tencent Holdings Ltd           9.898                       53,13 \n",
       "9                  Novartis AG          8.654                        46,45"
      ]
     },
     "execution_count": 5,
     "metadata": {},
     "output_type": "execute_result"
    }
   ],
   "source": [
    "import pandas as pd\n",
    "\n",
    "df = pd.read_csv('df.csv', delimiter=';', encoding='latin1')\n",
    "df"
   ]
  },
  {
   "cell_type": "code",
   "execution_count": 6,
   "metadata": {},
   "outputs": [
    {
     "name": "stdout",
     "output_type": "stream",
     "text": [
      "<class 'pandas.core.frame.DataFrame'>\n",
      "RangeIndex: 10 entries, 0 to 9\n",
      "Data columns (total 3 columns):\n",
      " #   Column                        Non-Null Count  Dtype  \n",
      "---  ------                        --------------  -----  \n",
      " 0   Selskap                       10 non-null     object \n",
      " 1   Du eier (kr.)                 10 non-null     float64\n",
      " 2   Oljefondets aksjer (mrd.kr.)  10 non-null     object \n",
      "dtypes: float64(1), object(2)\n",
      "memory usage: 368.0+ bytes\n"
     ]
    }
   ],
   "source": [
    "df.info()"
   ]
  },
  {
   "cell_type": "code",
   "execution_count": 7,
   "metadata": {},
   "outputs": [],
   "source": [
    "df[\"Oljefondets aksjer (mrd.kr.)\"] = df[\"Oljefondets aksjer (mrd.kr.)\"].str.replace(',','.')\n",
    "df[\"Oljefondets aksjer (mrd.kr.)\"] = pd.to_numeric(df[\"Oljefondets aksjer (mrd.kr.)\"])"
   ]
  },
  {
   "cell_type": "code",
   "execution_count": 8,
   "metadata": {},
   "outputs": [
    {
     "name": "stdout",
     "output_type": "stream",
     "text": [
      "<class 'pandas.core.frame.DataFrame'>\n",
      "RangeIndex: 10 entries, 0 to 9\n",
      "Data columns (total 3 columns):\n",
      " #   Column                        Non-Null Count  Dtype  \n",
      "---  ------                        --------------  -----  \n",
      " 0   Selskap                       10 non-null     object \n",
      " 1   Du eier (kr.)                 10 non-null     float64\n",
      " 2   Oljefondets aksjer (mrd.kr.)  10 non-null     float64\n",
      "dtypes: float64(2), object(1)\n",
      "memory usage: 368.0+ bytes\n"
     ]
    }
   ],
   "source": [
    "df.info()"
   ]
  },
  {
   "cell_type": "markdown",
   "metadata": {},
   "source": [
    "#### Regresjon"
   ]
  },
  {
   "cell_type": "code",
   "execution_count": 9,
   "metadata": {},
   "outputs": [],
   "source": [
    "from statsmodels.regression.linear_model import OLS\n",
    "import statsmodels.api as sm"
   ]
  },
  {
   "cell_type": "code",
   "execution_count": 10,
   "metadata": {},
   "outputs": [],
   "source": [
    "y=pd.DataFrame(df['Du eier (kr.)'])\n",
    "x=pd.DataFrame(df['Oljefondets aksjer (mrd.kr.)'])\n",
    "x = sm.add_constant(x)"
   ]
  },
  {
   "cell_type": "code",
   "execution_count": 11,
   "metadata": {},
   "outputs": [
    {
     "name": "stdout",
     "output_type": "stream",
     "text": [
      "                            OLS Regression Results                            \n",
      "==============================================================================\n",
      "Dep. Variable:          Du eier (kr.)   R-squared:                       1.000\n",
      "Model:                            OLS   Adj. R-squared:                  1.000\n",
      "Method:                 Least Squares   F-statistic:                 5.555e+09\n",
      "Date:                Sun, 27 Mar 2022   Prob (F-statistic):           1.18e-36\n",
      "Time:                        11:36:58   Log-Likelihood:                 68.254\n",
      "No. Observations:                  10   AIC:                            -132.5\n",
      "Df Residuals:                       8   BIC:                            -131.9\n",
      "Df Model:                           1                                         \n",
      "Covariance Type:            nonrobust                                         \n",
      "================================================================================================\n",
      "                                   coef    std err          t      P>|t|      [0.025      0.975]\n",
      "------------------------------------------------------------------------------------------------\n",
      "const                            0.0002      0.000      0.797      0.448      -0.000       0.001\n",
      "Oljefondets aksjer (mrd.kr.)     0.1863    2.5e-06   7.45e+04      0.000       0.186       0.186\n",
      "==============================================================================\n",
      "Omnibus:                        0.661   Durbin-Watson:                   2.754\n",
      "Prob(Omnibus):                  0.718   Jarque-Bera (JB):                0.593\n",
      "Skew:                           0.275   Prob(JB):                        0.743\n",
      "Kurtosis:                       1.941   Cond. No.                         245.\n",
      "==============================================================================\n",
      "\n",
      "Warnings:\n",
      "[1] Standard Errors assume that the covariance matrix of the errors is correctly specified.\n"
     ]
    },
    {
     "name": "stderr",
     "output_type": "stream",
     "text": [
      "C:\\Users\\mgmal\\anaconda3\\lib\\site-packages\\scipy\\stats\\stats.py:1535: UserWarning: kurtosistest only valid for n>=20 ... continuing anyway, n=10\n",
      "  \"anyway, n=%i\" % int(n))\n"
     ]
    }
   ],
   "source": [
    "res=OLS(y,x).fit()\n",
    "print(res.summary())"
   ]
  },
  {
   "cell_type": "markdown",
   "metadata": {},
   "source": [
    "En kan se at sammenhengen mellom x og y er statistisk signifikant og at 100% av variasjonen i y kan forklares ved regresjonslinjen. Dette er ikke overraskende siden varibelen x er variabelen y delt på antallet innbyggere i Norge. Det er meningsløst å tolke koeffisientene for denne regresjonen."
   ]
  },
  {
   "cell_type": "code",
   "execution_count": 12,
   "metadata": {},
   "outputs": [
    {
     "data": {
      "text/plain": [
       "<matplotlib.axes._subplots.AxesSubplot at 0x23af66ab9c8>"
      ]
     },
     "execution_count": 12,
     "metadata": {},
     "output_type": "execute_result"
    },
    {
     "data": {
      "image/png": "[encoded data removed]",
      "text/plain": [
       "<Figure size 432x288 with 1 Axes>"
      ]
     },
     "metadata": {
      "needs_background": "light"
     },
     "output_type": "display_data"
    }
   ],
   "source": [
    "import seaborn as sns\n",
    "\n",
    "sns.regplot(x='Oljefondets aksjer (mrd.kr.)', y='Du eier (kr.)', data=df)"
   ]
  }
 ],
 "metadata": {
  "kernelspec": {
   "display_name": "Python 3",
   "language": "python",
   "name": "python3"
  },
  "language_info": {
   "codemirror_mode": {
    "name": "ipython",
    "version": 3
   },
   "file_extension": ".py",
   "mimetype": "text/x-python",
   "name": "python",
   "nbconvert_exporter": "python",
   "pygments_lexer": "ipython3",
   "version": "3.7.7"
  }
 },
 "nbformat": 4,
 "nbformat_minor": 4
}
